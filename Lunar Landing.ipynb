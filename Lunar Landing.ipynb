{
 "cells": [
  {
   "cell_type": "markdown",
   "source": [
    "# Environment"
   ],
   "metadata": {}
  },
  {
   "cell_type": "code",
   "execution_count": 1,
   "source": [
    "import gym\n",
    "import numpy as np\n",
    "\n",
    "import os\n",
    "\n",
    "import matplotlib.pyplot as plt\n",
    "\n",
    "from stable_baselines3.common.monitor import Monitor\n",
    "from stable_baselines3.common.results_plotter import load_results, ts2xy"
   ],
   "outputs": [],
   "metadata": {}
  },
  {
   "cell_type": "code",
   "execution_count": 2,
   "source": [
    "name = \"LunarLander-v2\"\n",
    "env = gym.make(name)\n",
    "spec = gym.spec(name)\n",
    "\n",
    "print(f\"Action Space: {env.action_space}\")\n",
    "print(f\"Observation Space: {env.observation_space}\")\n",
    "print(f\"Max Episode Steps: {spec.max_episode_steps}\")\n",
    "print(f\"Nondeterministic: {spec.nondeterministic}\")\n",
    "print(f\"Reward Range: {env.reward_range}\")\n",
    "print(f\"Reward Threshold: {spec.reward_threshold}\")"
   ],
   "outputs": [
    {
     "output_type": "stream",
     "name": "stdout",
     "text": [
      "Action Space: Discrete(4)\n",
      "Observation Space: Box(8,)\n",
      "Max Episode Steps: 1000\n",
      "Nondeterministic: False\n",
      "Reward Range: (-inf, inf)\n",
      "Reward Threshold: 200\n"
     ]
    },
    {
     "output_type": "stream",
     "name": "stderr",
     "text": [
      "/home/pf/.local/lib/python3.8/site-packages/gym/logger.py:30: UserWarning: \u001b[33mWARN: Box bound precision lowered by casting to float32\u001b[0m\n",
      "  warnings.warn(colorize('%s: %s'%('WARN', msg % args), 'yellow'))\n"
     ]
    }
   ],
   "metadata": {}
  },
  {
   "cell_type": "markdown",
   "source": [
    "# Helper functions"
   ],
   "metadata": {}
  },
  {
   "cell_type": "code",
   "execution_count": 3,
   "source": [
    "def evaluate(model, num_episodes=20, verbose=1):\n",
    "    \"\"\"\n",
    "    Evaluate a RL agent\n",
    "    :param model: the RL Agent\n",
    "    :param num_episodes: number of episodes to evaluate it\n",
    "    :return: Mean reward for the last num_episodes\n",
    "    \"\"\"\n",
    "    all_episode_rewards = np.zeros((num_episodes))\n",
    "    qvals = []\n",
    "\n",
    "    env = gym.make(name)\n",
    "\n",
    "    for i in range(num_episodes):\n",
    "        episode_rewards = []\n",
    "        done = False\n",
    "        obs = env.reset()\n",
    "        \n",
    "        while not done:\n",
    "            qval = model.dqn(np.array([obs]))[0]\n",
    "            action = np.argmax(qval)\n",
    "            qvals.append(np.max(qval))\n",
    "            # here, action, rewards and dones are arrays\n",
    "            # because we are using vectorized env\n",
    "            obs, reward, done, info = env.step(action)\n",
    "            episode_rewards.append(reward)\n",
    "\n",
    "        all_episode_rewards[i] = sum(episode_rewards)\n",
    "\n",
    "    env.close()\n",
    "\n",
    "    mean_episode_reward = np.mean(all_episode_rewards)\n",
    "    mean_q_value = np.mean(qvals)\n",
    "    if verbose:\n",
    "        print(\"Evaluation *** Mean reward:\", mean_episode_reward, \"Mean Q-value:\", mean_q_value)\n",
    "\n",
    "    return mean_episode_reward, mean_q_value"
   ],
   "outputs": [],
   "metadata": {}
  },
  {
   "cell_type": "code",
   "execution_count": 4,
   "source": [
    "from stable_baselines3.common.vec_env import VecVideoRecorder, DummyVecEnv\n",
    "\n",
    "log_dir = f'logs/{name}/'\n",
    "video_folder = log_dir + 'video'\n",
    "\n",
    "def save_episode(model, comment):\n",
    "    video_length = 3000\n",
    "    env = DummyVecEnv([lambda: gym.make(name)])\n",
    "\n",
    "    # Record the video\n",
    "    env = VecVideoRecorder(env, video_folder,\n",
    "                        record_video_trigger=lambda x: x == 0,\n",
    "                        video_length=video_length,\n",
    "                        name_prefix=\"DQL-{}-{}\".format(name, comment))\n",
    "\n",
    "    # Simulate game\n",
    "    obs = env.reset()\n",
    "    for _ in range(video_length + 1):\n",
    "        action = np.argmax(model.dqn(np.array(obs))[0])\n",
    "        obs, _, done, _ = env.step([action])\n",
    "\n",
    "        if done:\n",
    "            break\n",
    "\n",
    "    env.close()"
   ],
   "outputs": [],
   "metadata": {}
  },
  {
   "cell_type": "markdown",
   "source": [
    "# Model"
   ],
   "metadata": {}
  },
  {
   "cell_type": "code",
   "execution_count": 5,
   "source": [
    "from tensorflow.keras.models import Model\n",
    "from tensorflow.keras.layers import (Conv2D,\n",
    "                                     Dense,\n",
    "                                     Input,\n",
    "                                     Flatten)\n",
    "from tensorflow.keras.optimizers import Adam\n",
    "from tensorflow.keras.callbacks import EarlyStopping, ReduceLROnPlateau, Callback\n",
    "from tensorflow.keras.losses import categorical_crossentropy\n",
    "from tensorflow.keras import backend as K\n",
    "from tensorflow import keras\n",
    "import tensorflow as tf"
   ],
   "outputs": [
    {
     "output_type": "stream",
     "name": "stderr",
     "text": [
      "2021-07-17 12:13:28.887913: I tensorflow/stream_executor/platform/default/dso_loader.cc:53] Successfully opened dynamic library libcudart.so.11.0\n"
     ]
    }
   ],
   "metadata": {}
  },
  {
   "cell_type": "code",
   "execution_count": 6,
   "source": [
    "def build_model(input_shape, output_shape):\n",
    "    x = Input(shape=(input_shape))\n",
    "\n",
    "    hidden = Dense(64, activation=\"relu\")(x)\n",
    "    hidden = Dense(32, activation=\"relu\")(hidden)\n",
    "    hidden = Dense(16, activation=\"relu\")(hidden)\n",
    "\n",
    "    y = Dense(output_shape, activation=\"linear\")(hidden)\n",
    "\n",
    "    model = Model(inputs=x, outputs=y)\n",
    "    return model\n",
    "\n",
    "optimizer = Adam(learning_rate=0.001)\n",
    "loss_fn = tf.keras.losses.mse"
   ],
   "outputs": [],
   "metadata": {}
  },
  {
   "cell_type": "markdown",
   "source": [
    "# Replay Memory"
   ],
   "metadata": {}
  },
  {
   "cell_type": "code",
   "execution_count": 7,
   "source": [
    "from collections import namedtuple, deque\n",
    "import random\n",
    "\n",
    "Transition = namedtuple('Transition',\n",
    "                        ('state', 'action', 'next_state', 'reward', 'done'))\n",
    "\n",
    "class ReplayMemory(object):\n",
    "\n",
    "    def __init__(self, capacity, batch_size):\n",
    "        self.memory = deque([], maxlen=capacity)\n",
    "        self.batch_size = batch_size\n",
    "\n",
    "    def push(self, *args):\n",
    "        \"\"\" Save a transition \"\"\"\n",
    "        self.memory.append(Transition(*args))\n",
    "\n",
    "    def sample(self):\n",
    "        \"\"\" Get a random element from the memory buffer \"\"\"\n",
    "        return random.sample(self.memory, self.batch_size)\n",
    "\n",
    "    def __len__(self):\n",
    "        return len(self.memory)"
   ],
   "outputs": [],
   "metadata": {}
  },
  {
   "cell_type": "markdown",
   "source": [
    "# Deep Q-Learning Training Loop"
   ],
   "metadata": {}
  },
  {
   "cell_type": "code",
   "execution_count": 8,
   "source": [
    "class DeepQLearning :\n",
    "    def __init__(self, env, capacity=1000000, batch_size=64, max_frames=3000, gamma=0.99, epsilon=1.0):\n",
    "        \"\"\"\n",
    "        :param env: OpenAI RL environment to solve\n",
    "        :param capacity: Replay Buffer memory size\n",
    "        :param batch_size: Size of the H.E.R.\n",
    "        :param max_frames: Max number of iteration in a single gameplay\n",
    "        :param gamma: Decay factor\n",
    "        :param epsilon: Exploration term\n",
    "        \"\"\"\n",
    "        self.env = env\n",
    "        self.dqn = build_model(env.observation_space.shape, env.action_space.n)\n",
    "        self.dqn_target = build_model(env.observation_space.shape, env.action_space.n)\n",
    "        self.dqn_target.set_weights(self.dqn.get_weights())\n",
    "        self.memory = ReplayMemory(capacity, batch_size)\n",
    "        self.max_frames = max_frames\n",
    "        self.gamma = gamma\n",
    "        self.epsilon = epsilon\n",
    "\n",
    "    def _bellman_equation(self):\n",
    "        \"\"\"\n",
    "        Update the Q-Learning table with discounted reward\n",
    "        \"\"\"\n",
    "        # Sample batch\n",
    "        transitions = self.memory.sample()\n",
    "        state, action, next_state, reward, done = Transition(*zip(*transitions))\n",
    "\n",
    "        # Q value = reward + discount factor * expected future reward\n",
    "        future_q_values = self.dqn_target(np.stack(next_state))\n",
    "        # future_q_values = self.dqn_target(np.stack(next_state))\n",
    "        updated_q_values = reward + self.gamma * (tf.reduce_max(future_q_values, axis=1)) * (1 - np.array(done))\n",
    "        \n",
    "        # Mask all the action not taken\n",
    "        masks = tf.one_hot(action, env.action_space.n)\n",
    "\n",
    "        with tf.GradientTape() as tape:\n",
    "            q_values = self.dqn(np.stack(state))\n",
    "            # Select the predicted q-values of action taken\n",
    "            q_action = tf.reduce_sum(tf.multiply(q_values, masks), axis=1)\n",
    "\n",
    "            loss = loss_fn(updated_q_values, q_action)\n",
    "            # loss = tf.reduce_mean(loss_fn(updated_q_values, q_action)) # ?\n",
    "            \n",
    "        # Backpropagation\n",
    "        grads = tape.gradient(loss, self.dqn.trainable_variables)\n",
    "        optimizer.apply_gradients(zip(grads, self.dqn.trainable_variables))\n",
    "\n",
    "    def _epsilon_decay(self, exploration_steps):\n",
    "        \"\"\"\n",
    "        Decay the exploration factor in training.\n",
    "        :param exploration_steps: Number of steps until stoping random exploration \n",
    "        :return: new exploration factor\n",
    "        \"\"\"\n",
    "        epsilon_decay = (1 - 0.1) / exploration_steps\n",
    "        return max(self.epsilon - epsilon_decay, 0.1)\n",
    "\n",
    "\n",
    "    def predict(self, obs):\n",
    "        \"\"\"\n",
    "        Q-Learning table lookup for decision making.\n",
    "        :param obs: Current observation of the agent\n",
    "        :return: Action the agent will make & the associated q-values.\n",
    "        \"\"\"\n",
    "        if np.random.uniform(0, 1) < self.epsilon:\n",
    "            # Select a random action at random occurrences\n",
    "            return self.env.action_space.sample(), _\n",
    "        # Select optimal action\n",
    "        qvals = self.dqn(np.array([obs]))[0]\n",
    "        return np.argmax(qvals), _\n",
    "\n",
    "    def learn(self, episodes, exploration_steps, verbose=1):\n",
    "        \"\"\" \n",
    "        Deep Q-Learning updating through game-playing\n",
    "        \"\"\"\n",
    "        scores = []\n",
    "        timesteps = 0\n",
    "\n",
    "        for episode in range(episodes):\n",
    "            self.dqn_target.set_weights(self.dqn.get_weights())\n",
    "            # Reset variables for new game\n",
    "            state = self.env.reset()\n",
    "            done = False\n",
    "            episode_reward = 0\n",
    "            steps = 0\n",
    "\n",
    "            while not done and steps <= 3000:\n",
    "                # Predict new decision\n",
    "                action, _ = self.predict(state)\n",
    "\n",
    "                # Simulate decision\n",
    "                next_state, reward, done, info = self.env.step(action)\n",
    "\n",
    "                # Save step\n",
    "                self.memory.push(state, action, next_state, reward, done)\n",
    "\n",
    "                if self.memory.__len__() > 64:\n",
    "                    # Decay exploration\n",
    "                    self.epsilon = self._epsilon_decay(exploration_steps)\n",
    "    \n",
    "                    # Policy Gradient\n",
    "                    self._bellman_equation()\n",
    "\n",
    "                # Track the run\n",
    "                state = next_state\n",
    "                episode_reward += reward\n",
    "                steps += 1\n",
    "\n",
    "            scores.append(episode_reward)\n",
    "            timesteps += steps\n",
    "\n",
    "            if episode_reward > 195 and verbose:\n",
    "                print('* Solved *')\n",
    "\n",
    "            if not episode % 10 and verbose:\n",
    "                print(f'Episode {episode} - Mean reward {np.mean(scores[-100:]):0.2f} - Episode reward {episode_reward:0.2f} - Epsilon {self.epsilon:0.2f}.')\n",
    "            \n",
    "            if (not episode % 50 or episode == episodes - 1) and verbose:\n",
    "                self.dqn.save(log_dir + f\"weigths/DQN_Episode-{episode}.h5\")\n",
    "                save_episode(self, episode)\n",
    "        \n",
    "        self.total_steps = timesteps"
   ],
   "outputs": [],
   "metadata": {}
  },
  {
   "cell_type": "markdown",
   "source": [
    "## Random Agent"
   ],
   "metadata": {}
  },
  {
   "cell_type": "code",
   "execution_count": 9,
   "source": [
    "# Create log dir\n",
    "log_dir = f\"logs/{name}/\"\n",
    "os.makedirs(log_dir, exist_ok=True)\n",
    "\n",
    "# Create and wrap the environment\n",
    "env = gym.make(name)\n",
    "# Logs will be saved in log_dir/\n",
    "env = Monitor(env, log_dir)\n",
    "env.seed(0)"
   ],
   "outputs": [
    {
     "output_type": "stream",
     "name": "stderr",
     "text": [
      "/home/pf/.local/lib/python3.8/site-packages/gym/logger.py:30: UserWarning: \u001b[33mWARN: Box bound precision lowered by casting to float32\u001b[0m\n",
      "  warnings.warn(colorize('%s: %s'%('WARN', msg % args), 'yellow'))\n"
     ]
    },
    {
     "output_type": "execute_result",
     "data": {
      "text/plain": [
       "[0]"
      ]
     },
     "metadata": {},
     "execution_count": 9
    }
   ],
   "metadata": {}
  },
  {
   "cell_type": "code",
   "execution_count": 10,
   "source": [
    "model = DeepQLearning(env)\n",
    "\n",
    "evaluate(model)\n",
    "\n",
    "save_episode(model, 'RandomAgent')"
   ],
   "outputs": [
    {
     "output_type": "stream",
     "name": "stderr",
     "text": [
      "2021-07-17 12:13:30.179953: I tensorflow/stream_executor/platform/default/dso_loader.cc:53] Successfully opened dynamic library libcuda.so.1\n",
      "2021-07-17 12:13:30.217173: I tensorflow/stream_executor/cuda/cuda_gpu_executor.cc:937] successful NUMA node read from SysFS had negative value (-1), but there must be at least one NUMA node, so returning NUMA node zero\n",
      "2021-07-17 12:13:30.217891: I tensorflow/core/common_runtime/gpu/gpu_device.cc:1733] Found device 0 with properties: \n",
      "pciBusID: 0000:01:00.0 name: NVIDIA GeForce GTX 1060 computeCapability: 6.1\n",
      "coreClock: 1.6705GHz coreCount: 10 deviceMemorySize: 5.94GiB deviceMemoryBandwidth: 178.99GiB/s\n",
      "2021-07-17 12:13:30.217937: I tensorflow/stream_executor/platform/default/dso_loader.cc:53] Successfully opened dynamic library libcudart.so.11.0\n",
      "2021-07-17 12:13:30.222524: I tensorflow/stream_executor/platform/default/dso_loader.cc:53] Successfully opened dynamic library libcublas.so.11\n",
      "2021-07-17 12:13:30.222685: I tensorflow/stream_executor/platform/default/dso_loader.cc:53] Successfully opened dynamic library libcublasLt.so.11\n",
      "2021-07-17 12:13:30.225568: I tensorflow/stream_executor/platform/default/dso_loader.cc:53] Successfully opened dynamic library libcufft.so.10\n",
      "2021-07-17 12:13:30.226124: I tensorflow/stream_executor/platform/default/dso_loader.cc:53] Successfully opened dynamic library libcurand.so.10\n",
      "2021-07-17 12:13:30.227005: I tensorflow/stream_executor/platform/default/dso_loader.cc:53] Successfully opened dynamic library libcusolver.so.11\n",
      "2021-07-17 12:13:30.228302: I tensorflow/stream_executor/platform/default/dso_loader.cc:53] Successfully opened dynamic library libcusparse.so.11\n",
      "2021-07-17 12:13:30.228597: I tensorflow/stream_executor/platform/default/dso_loader.cc:53] Successfully opened dynamic library libcudnn.so.8\n",
      "2021-07-17 12:13:30.228745: I tensorflow/stream_executor/cuda/cuda_gpu_executor.cc:937] successful NUMA node read from SysFS had negative value (-1), but there must be at least one NUMA node, so returning NUMA node zero\n",
      "2021-07-17 12:13:30.229409: I tensorflow/stream_executor/cuda/cuda_gpu_executor.cc:937] successful NUMA node read from SysFS had negative value (-1), but there must be at least one NUMA node, so returning NUMA node zero\n",
      "2021-07-17 12:13:30.229970: I tensorflow/core/common_runtime/gpu/gpu_device.cc:1871] Adding visible gpu devices: 0\n",
      "2021-07-17 12:13:30.231154: I tensorflow/core/platform/cpu_feature_guard.cc:142] This TensorFlow binary is optimized with oneAPI Deep Neural Network Library (oneDNN) to use the following CPU instructions in performance-critical operations:  AVX2 FMA\n",
      "To enable them in other operations, rebuild TensorFlow with the appropriate compiler flags.\n",
      "2021-07-17 12:13:30.231732: I tensorflow/stream_executor/cuda/cuda_gpu_executor.cc:937] successful NUMA node read from SysFS had negative value (-1), but there must be at least one NUMA node, so returning NUMA node zero\n",
      "2021-07-17 12:13:30.232225: I tensorflow/core/common_runtime/gpu/gpu_device.cc:1733] Found device 0 with properties: \n",
      "pciBusID: 0000:01:00.0 name: NVIDIA GeForce GTX 1060 computeCapability: 6.1\n",
      "coreClock: 1.6705GHz coreCount: 10 deviceMemorySize: 5.94GiB deviceMemoryBandwidth: 178.99GiB/s\n",
      "2021-07-17 12:13:30.232356: I tensorflow/stream_executor/cuda/cuda_gpu_executor.cc:937] successful NUMA node read from SysFS had negative value (-1), but there must be at least one NUMA node, so returning NUMA node zero\n",
      "2021-07-17 12:13:30.232974: I tensorflow/stream_executor/cuda/cuda_gpu_executor.cc:937] successful NUMA node read from SysFS had negative value (-1), but there must be at least one NUMA node, so returning NUMA node zero\n",
      "2021-07-17 12:13:30.233474: I tensorflow/core/common_runtime/gpu/gpu_device.cc:1871] Adding visible gpu devices: 0\n",
      "2021-07-17 12:13:30.233544: I tensorflow/stream_executor/platform/default/dso_loader.cc:53] Successfully opened dynamic library libcudart.so.11.0\n",
      "2021-07-17 12:13:30.699791: I tensorflow/core/common_runtime/gpu/gpu_device.cc:1258] Device interconnect StreamExecutor with strength 1 edge matrix:\n",
      "2021-07-17 12:13:30.699822: I tensorflow/core/common_runtime/gpu/gpu_device.cc:1264]      0 \n",
      "2021-07-17 12:13:30.699829: I tensorflow/core/common_runtime/gpu/gpu_device.cc:1277] 0:   N \n",
      "2021-07-17 12:13:30.700014: I tensorflow/stream_executor/cuda/cuda_gpu_executor.cc:937] successful NUMA node read from SysFS had negative value (-1), but there must be at least one NUMA node, so returning NUMA node zero\n",
      "2021-07-17 12:13:30.700422: I tensorflow/stream_executor/cuda/cuda_gpu_executor.cc:937] successful NUMA node read from SysFS had negative value (-1), but there must be at least one NUMA node, so returning NUMA node zero\n",
      "2021-07-17 12:13:30.700780: I tensorflow/stream_executor/cuda/cuda_gpu_executor.cc:937] successful NUMA node read from SysFS had negative value (-1), but there must be at least one NUMA node, so returning NUMA node zero\n",
      "2021-07-17 12:13:30.701105: I tensorflow/core/common_runtime/gpu/gpu_device.cc:1418] Created TensorFlow device (/job:localhost/replica:0/task:0/device:GPU:0 with 4814 MB memory) -> physical GPU (device: 0, name: NVIDIA GeForce GTX 1060, pci bus id: 0000:01:00.0, compute capability: 6.1)\n",
      "2021-07-17 12:13:30.836518: I tensorflow/stream_executor/platform/default/dso_loader.cc:53] Successfully opened dynamic library libcublas.so.11\n",
      "2021-07-17 12:13:31.124747: I tensorflow/stream_executor/platform/default/dso_loader.cc:53] Successfully opened dynamic library libcublasLt.so.11\n"
     ]
    },
    {
     "output_type": "stream",
     "name": "stdout",
     "text": [
      "Evaluation *** Mean reward: -546.8044720976152 Mean Q-value: 0.12757565\n"
     ]
    }
   ],
   "metadata": {}
  },
  {
   "cell_type": "markdown",
   "source": [
    "## Agent Training"
   ],
   "metadata": {}
  },
  {
   "cell_type": "code",
   "execution_count": 11,
   "source": [
    "episodes = 400\n",
    "exploration_steps = 5e3\n",
    "\n",
    "model.learn(episodes, exploration_steps)"
   ],
   "outputs": [
    {
     "output_type": "stream",
     "name": "stdout",
     "text": [
      "Episode 0 - Mean reward -396.30 - Episode reward -396.30 - Epsilon 0.99.\n",
      "WARNING:tensorflow:Compiled the loaded model, but the compiled metrics have yet to be built. `model.compile_metrics` will be empty until you train or evaluate the model.\n"
     ]
    },
    {
     "output_type": "stream",
     "name": "stderr",
     "text": [
      "/home/pf/.local/lib/python3.8/site-packages/gym/logger.py:30: UserWarning: \u001b[33mWARN: Box bound precision lowered by casting to float32\u001b[0m\n",
      "  warnings.warn(colorize('%s: %s'%('WARN', msg % args), 'yellow'))\n"
     ]
    },
    {
     "output_type": "stream",
     "name": "stdout",
     "text": [
      "Episode 10 - Mean reward -160.92 - Episode reward -87.86 - Epsilon 0.80.\n",
      "Episode 20 - Mean reward -132.78 - Episode reward -102.67 - Epsilon 0.61.\n",
      "Episode 30 - Mean reward -155.28 - Episode reward -283.82 - Epsilon 0.31.\n",
      "Episode 40 - Mean reward -173.78 - Episode reward -220.03 - Epsilon 0.10.\n",
      "Episode 50 - Mean reward -159.18 - Episode reward -76.44 - Epsilon 0.10.\n",
      "WARNING:tensorflow:Compiled the loaded model, but the compiled metrics have yet to be built. `model.compile_metrics` will be empty until you train or evaluate the model.\n"
     ]
    },
    {
     "output_type": "stream",
     "name": "stderr",
     "text": [
      "/home/pf/.local/lib/python3.8/site-packages/gym/logger.py:30: UserWarning: \u001b[33mWARN: Box bound precision lowered by casting to float32\u001b[0m\n",
      "  warnings.warn(colorize('%s: %s'%('WARN', msg % args), 'yellow'))\n"
     ]
    },
    {
     "output_type": "stream",
     "name": "stdout",
     "text": [
      "Episode 60 - Mean reward -148.04 - Episode reward -51.90 - Epsilon 0.10.\n",
      "Episode 70 - Mean reward -137.73 - Episode reward -80.40 - Epsilon 0.10.\n",
      "Episode 80 - Mean reward -140.85 - Episode reward -128.68 - Epsilon 0.10.\n",
      "Episode 90 - Mean reward -132.75 - Episode reward -19.89 - Epsilon 0.10.\n",
      "Episode 100 - Mean reward -123.44 - Episode reward -47.68 - Epsilon 0.10.\n",
      "WARNING:tensorflow:Compiled the loaded model, but the compiled metrics have yet to be built. `model.compile_metrics` will be empty until you train or evaluate the model.\n"
     ]
    },
    {
     "output_type": "stream",
     "name": "stderr",
     "text": [
      "/home/pf/.local/lib/python3.8/site-packages/gym/logger.py:30: UserWarning: \u001b[33mWARN: Box bound precision lowered by casting to float32\u001b[0m\n",
      "  warnings.warn(colorize('%s: %s'%('WARN', msg % args), 'yellow'))\n"
     ]
    },
    {
     "output_type": "stream",
     "name": "stdout",
     "text": [
      "Episode 110 - Mean reward -115.60 - Episode reward -113.68 - Epsilon 0.10.\n",
      "* Solved *\n",
      "* Solved *\n",
      "Episode 120 - Mean reward -103.93 - Episode reward -51.89 - Epsilon 0.10.\n",
      "* Solved *\n",
      "* Solved *\n",
      "Episode 130 - Mean reward -76.98 - Episode reward -13.62 - Epsilon 0.10.\n",
      "* Solved *\n",
      "* Solved *\n",
      "* Solved *\n",
      "* Solved *\n",
      "Episode 140 - Mean reward -42.00 - Episode reward 56.75 - Epsilon 0.10.\n",
      "* Solved *\n",
      "* Solved *\n",
      "* Solved *\n",
      "* Solved *\n",
      "* Solved *\n",
      "* Solved *\n",
      "Episode 150 - Mean reward -19.07 - Episode reward 257.97 - Epsilon 0.10.\n",
      "WARNING:tensorflow:Compiled the loaded model, but the compiled metrics have yet to be built. `model.compile_metrics` will be empty until you train or evaluate the model.\n"
     ]
    },
    {
     "output_type": "stream",
     "name": "stderr",
     "text": [
      "/home/pf/.local/lib/python3.8/site-packages/gym/logger.py:30: UserWarning: \u001b[33mWARN: Box bound precision lowered by casting to float32\u001b[0m\n",
      "  warnings.warn(colorize('%s: %s'%('WARN', msg % args), 'yellow'))\n"
     ]
    },
    {
     "output_type": "stream",
     "name": "stdout",
     "text": [
      "* Solved *\n",
      "* Solved *\n",
      "* Solved *\n",
      "* Solved *\n",
      "* Solved *\n",
      "* Solved *\n",
      "* Solved *\n",
      "* Solved *\n",
      "Episode 160 - Mean reward 8.19 - Episode reward 202.03 - Epsilon 0.10.\n",
      "* Solved *\n",
      "* Solved *\n",
      "* Solved *\n",
      "* Solved *\n",
      "* Solved *\n",
      "* Solved *\n",
      "Episode 170 - Mean reward 28.22 - Episode reward 256.66 - Epsilon 0.10.\n",
      "* Solved *\n",
      "* Solved *\n",
      "* Solved *\n",
      "* Solved *\n",
      "* Solved *\n",
      "* Solved *\n",
      "* Solved *\n",
      "Episode 180 - Mean reward 64.55 - Episode reward 197.34 - Epsilon 0.10.\n",
      "* Solved *\n",
      "* Solved *\n",
      "* Solved *\n",
      "* Solved *\n",
      "* Solved *\n",
      "* Solved *\n",
      "* Solved *\n",
      "* Solved *\n",
      "Episode 190 - Mean reward 93.62 - Episode reward 168.75 - Epsilon 0.10.\n",
      "* Solved *\n",
      "* Solved *\n",
      "* Solved *\n",
      "* Solved *\n",
      "* Solved *\n",
      "* Solved *\n",
      "Episode 200 - Mean reward 119.79 - Episode reward 42.25 - Epsilon 0.10.\n",
      "WARNING:tensorflow:Compiled the loaded model, but the compiled metrics have yet to be built. `model.compile_metrics` will be empty until you train or evaluate the model.\n"
     ]
    },
    {
     "output_type": "stream",
     "name": "stderr",
     "text": [
      "/home/pf/.local/lib/python3.8/site-packages/gym/logger.py:30: UserWarning: \u001b[33mWARN: Box bound precision lowered by casting to float32\u001b[0m\n",
      "  warnings.warn(colorize('%s: %s'%('WARN', msg % args), 'yellow'))\n"
     ]
    },
    {
     "output_type": "stream",
     "name": "stdout",
     "text": [
      "* Solved *\n",
      "* Solved *\n",
      "* Solved *\n",
      "* Solved *\n",
      "* Solved *\n",
      "* Solved *\n",
      "* Solved *\n",
      "* Solved *\n",
      "Episode 210 - Mean reward 147.10 - Episode reward 302.99 - Epsilon 0.10.\n",
      "* Solved *\n",
      "* Solved *\n",
      "* Solved *\n",
      "* Solved *\n",
      "* Solved *\n",
      "* Solved *\n",
      "* Solved *\n",
      "Episode 220 - Mean reward 165.09 - Episode reward 308.69 - Epsilon 0.10.\n",
      "* Solved *\n",
      "* Solved *\n",
      "* Solved *\n",
      "* Solved *\n",
      "* Solved *\n",
      "* Solved *\n",
      "* Solved *\n",
      "* Solved *\n",
      "Episode 230 - Mean reward 178.68 - Episode reward 229.78 - Epsilon 0.10.\n",
      "* Solved *\n",
      "* Solved *\n",
      "* Solved *\n",
      "* Solved *\n",
      "* Solved *\n",
      "* Solved *\n",
      "* Solved *\n",
      "Episode 240 - Mean reward 187.46 - Episode reward 153.90 - Epsilon 0.10.\n",
      "* Solved *\n",
      "Episode 250 - Mean reward 177.69 - Episode reward 221.05 - Epsilon 0.10.\n",
      "WARNING:tensorflow:Compiled the loaded model, but the compiled metrics have yet to be built. `model.compile_metrics` will be empty until you train or evaluate the model.\n"
     ]
    },
    {
     "output_type": "stream",
     "name": "stderr",
     "text": [
      "/home/pf/.local/lib/python3.8/site-packages/gym/logger.py:30: UserWarning: \u001b[33mWARN: Box bound precision lowered by casting to float32\u001b[0m\n",
      "  warnings.warn(colorize('%s: %s'%('WARN', msg % args), 'yellow'))\n"
     ]
    },
    {
     "output_type": "stream",
     "name": "stdout",
     "text": [
      "* Solved *\n",
      "* Solved *\n",
      "* Solved *\n",
      "Episode 260 - Mean reward 157.64 - Episode reward 312.11 - Epsilon 0.10.\n",
      "* Solved *\n",
      "* Solved *\n",
      "* Solved *\n",
      "* Solved *\n",
      "* Solved *\n",
      "* Solved *\n",
      "* Solved *\n",
      "* Solved *\n",
      "* Solved *\n",
      "Episode 270 - Mean reward 166.72 - Episode reward 256.21 - Epsilon 0.10.\n",
      "* Solved *\n",
      "* Solved *\n",
      "* Solved *\n",
      "* Solved *\n",
      "* Solved *\n",
      "Episode 280 - Mean reward 158.78 - Episode reward -92.95 - Epsilon 0.10.\n",
      "* Solved *\n",
      "* Solved *\n",
      "* Solved *\n",
      "* Solved *\n",
      "Episode 290 - Mean reward 149.85 - Episode reward -138.50 - Epsilon 0.10.\n",
      "* Solved *\n",
      "Episode 300 - Mean reward 135.09 - Episode reward -36.84 - Epsilon 0.10.\n",
      "WARNING:tensorflow:Compiled the loaded model, but the compiled metrics have yet to be built. `model.compile_metrics` will be empty until you train or evaluate the model.\n"
     ]
    },
    {
     "output_type": "stream",
     "name": "stderr",
     "text": [
      "/home/pf/.local/lib/python3.8/site-packages/gym/logger.py:30: UserWarning: \u001b[33mWARN: Box bound precision lowered by casting to float32\u001b[0m\n",
      "  warnings.warn(colorize('%s: %s'%('WARN', msg % args), 'yellow'))\n"
     ]
    },
    {
     "output_type": "stream",
     "name": "stdout",
     "text": [
      "* Solved *\n",
      "* Solved *\n",
      "* Solved *\n",
      "* Solved *\n",
      "* Solved *\n",
      "Episode 310 - Mean reward 120.35 - Episode reward 199.29 - Epsilon 0.10.\n",
      "* Solved *\n",
      "* Solved *\n",
      "* Solved *\n",
      "* Solved *\n",
      "* Solved *\n",
      "* Solved *\n",
      "* Solved *\n",
      "* Solved *\n",
      "Episode 320 - Mean reward 123.89 - Episode reward 267.45 - Epsilon 0.10.\n",
      "* Solved *\n",
      "* Solved *\n",
      "* Solved *\n",
      "* Solved *\n",
      "* Solved *\n",
      "* Solved *\n",
      "* Solved *\n",
      "* Solved *\n",
      "* Solved *\n",
      "* Solved *\n",
      "Episode 330 - Mean reward 127.81 - Episode reward 235.74 - Epsilon 0.10.\n",
      "* Solved *\n",
      "* Solved *\n",
      "* Solved *\n",
      "* Solved *\n",
      "* Solved *\n",
      "* Solved *\n",
      "* Solved *\n",
      "* Solved *\n",
      "* Solved *\n",
      "Episode 340 - Mean reward 131.79 - Episode reward 255.83 - Epsilon 0.10.\n",
      "* Solved *\n",
      "* Solved *\n",
      "* Solved *\n",
      "* Solved *\n",
      "* Solved *\n",
      "* Solved *\n",
      "* Solved *\n",
      "Episode 350 - Mean reward 148.89 - Episode reward 257.34 - Epsilon 0.10.\n",
      "WARNING:tensorflow:Compiled the loaded model, but the compiled metrics have yet to be built. `model.compile_metrics` will be empty until you train or evaluate the model.\n"
     ]
    },
    {
     "output_type": "stream",
     "name": "stderr",
     "text": [
      "/home/pf/.local/lib/python3.8/site-packages/gym/logger.py:30: UserWarning: \u001b[33mWARN: Box bound precision lowered by casting to float32\u001b[0m\n",
      "  warnings.warn(colorize('%s: %s'%('WARN', msg % args), 'yellow'))\n"
     ]
    },
    {
     "output_type": "stream",
     "name": "stdout",
     "text": [
      "* Solved *\n",
      "* Solved *\n",
      "* Solved *\n",
      "* Solved *\n",
      "* Solved *\n",
      "* Solved *\n",
      "Episode 360 - Mean reward 167.76 - Episode reward 220.74 - Epsilon 0.10.\n",
      "* Solved *\n",
      "* Solved *\n",
      "Episode 370 - Mean reward 144.21 - Episode reward -208.95 - Epsilon 0.10.\n",
      "* Solved *\n",
      "* Solved *\n",
      "* Solved *\n",
      "* Solved *\n",
      "Episode 380 - Mean reward 140.19 - Episode reward -3.59 - Epsilon 0.10.\n",
      "* Solved *\n",
      "* Solved *\n",
      "* Solved *\n",
      "* Solved *\n",
      "* Solved *\n",
      "* Solved *\n",
      "* Solved *\n",
      "Episode 390 - Mean reward 144.64 - Episode reward 263.58 - Epsilon 0.10.\n",
      "* Solved *\n",
      "* Solved *\n",
      "* Solved *\n",
      "* Solved *\n",
      "* Solved *\n",
      "WARNING:tensorflow:Compiled the loaded model, but the compiled metrics have yet to be built. `model.compile_metrics` will be empty until you train or evaluate the model.\n"
     ]
    },
    {
     "output_type": "stream",
     "name": "stderr",
     "text": [
      "/home/pf/.local/lib/python3.8/site-packages/gym/logger.py:30: UserWarning: \u001b[33mWARN: Box bound precision lowered by casting to float32\u001b[0m\n",
      "  warnings.warn(colorize('%s: %s'%('WARN', msg % args), 'yellow'))\n"
     ]
    }
   ],
   "metadata": {
    "id": "2FokfchZ3ml8"
   }
  },
  {
   "cell_type": "markdown",
   "source": [
    "## Evaluation"
   ],
   "metadata": {}
  },
  {
   "cell_type": "code",
   "execution_count": 12,
   "source": [
    "from stable_baselines3.common import results_plotter\n",
    "\n",
    "# Helper from the library\n",
    "results_plotter.plot_results([log_dir], model.total_steps, results_plotter.X_TIMESTEPS, \"Deep Q-Learning Lunar Landing\")"
   ],
   "outputs": [
    {
     "output_type": "display_data",
     "data": {
      "text/plain": [
       "<Figure size 576x144 with 1 Axes>"
      ],
      "image/png": "[encoded data removed]"
     },
     "metadata": {
      "needs_background": "light"
     }
    }
   ],
   "metadata": {
    "id": "6QnoQwZ35tQR",
    "colab": {
     "base_uri": "https://localhost:8080/",
     "height": 153
    },
    "outputId": "b9d5e785-10bf-44a9-ae7c-40cfe9e3009b"
   }
  },
  {
   "cell_type": "code",
   "execution_count": 19,
   "source": [
    "def moving_average(values, window):\n",
    "    \"\"\"\n",
    "    Smooth values by doing a moving average\n",
    "    :param values: (numpy array)\n",
    "    :param window: (int)\n",
    "    :return: (numpy array)\n",
    "    \"\"\"\n",
    "    weights = np.repeat(1.0, window) / window\n",
    "    return np.convolve(values, weights, 'valid')\n",
    "\n",
    "\n",
    "def plot_results(log_folder):\n",
    "    \"\"\"\n",
    "    plot the results\n",
    "\n",
    "    :param log_folder: (str) the save location of the results to plot\n",
    "    :param title: (str) the title of the task to plot\n",
    "    \"\"\"\n",
    "    x, y1 = ts2xy(load_results(log_folder), 'timesteps')\n",
    "    y1 = moving_average(y1, window=50)\n",
    "    # Truncate x\n",
    "    x = x[len(x) - len(y1):]\n",
    "\n",
    "    # Exploration epsilon values\n",
    "    epsilon_decay = (1 - 0.1) / exploration_steps\n",
    "    y2 = np.array([max(1 - epsilon_decay * time, 0.1) for time in range(model.total_steps)])#[x[x < total_steps]]\n",
    "    fig, ax1 = plt.subplots()\n",
    "\n",
    "    ax2 = ax1.twinx()\n",
    "    ax1.plot(x, y1, 'b-')\n",
    "    ax2.plot(np.arange(model.total_steps), y2, 'g-')\n",
    "\n",
    "    ax1.set_xlabel('Number of Timesteps')\n",
    "    ax1.set_ylabel('Rewards', color='b')\n",
    "    ax2.set_ylabel('Epsilon', color='g')\n",
    "\n",
    "    plt.show()\n",
    "\n",
    "plot_results(log_dir)"
   ],
   "outputs": [
    {
     "output_type": "stream",
     "name": "stdout",
     "text": [
      "(200879,)\n"
     ]
    },
    {
     "output_type": "display_data",
     "data": {
      "text/plain": [
       "<Figure size 432x288 with 2 Axes>"
      ],
      "image/png": "[encoded data removed]"
     },
     "metadata": {
      "needs_background": "light"
     }
    }
   ],
   "metadata": {
    "id": "JJTM_lED5ykY",
    "colab": {
     "base_uri": "https://localhost:8080/",
     "height": 295
    },
    "outputId": "809a0052-44b0-48ff-e542-1709aca31b62"
   }
  },
  {
   "cell_type": "code",
   "execution_count": 14,
   "source": [
    "_ = evaluate(model)\n",
    "\n",
    "save_episode(model, 'TrainedAgent')"
   ],
   "outputs": [
    {
     "output_type": "stream",
     "name": "stderr",
     "text": [
      "/home/pf/.local/lib/python3.8/site-packages/gym/logger.py:30: UserWarning: \u001b[33mWARN: Box bound precision lowered by casting to float32\u001b[0m\n",
      "  warnings.warn(colorize('%s: %s'%('WARN', msg % args), 'yellow'))\n"
     ]
    },
    {
     "output_type": "stream",
     "name": "stdout",
     "text": [
      "Evaluation *** Mean reward: 232.48679856918733 Mean Q-value: 80.27744\n"
     ]
    }
   ],
   "metadata": {
    "id": "pquWctQtA1pU",
    "colab": {
     "base_uri": "https://localhost:8080/"
    },
    "outputId": "da9c564d-47cf-4fc3-e8d2-55b86bf8a023"
   }
  },
  {
   "cell_type": "markdown",
   "source": [],
   "metadata": {}
  }
 ],
 "metadata": {
  "orig_nbformat": 4,
  "language_info": {
   "name": "python"
  }
 },
 "nbformat": 4,
 "nbformat_minor": 2
}
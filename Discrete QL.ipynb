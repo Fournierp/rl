{
  "nbformat": 4,
  "nbformat_minor": 2,
  "metadata": {
    "colab": {
      "name": "Discrete QL.ipynb",
      "provenance": [],
      "collapsed_sections": []
    },
    "kernelspec": {
      "display_name": "Python 3",
      "name": "python3"
    }
  },
  "cells": [
    {
      "cell_type": "code",
      "execution_count": 1,
      "source": [
        "import gym\n",
        "import numpy as np\n",
        "\n",
        "import os\n",
        "\n",
        "import matplotlib.pyplot as plt\n",
        "\n",
        "from stable_baselines3.common.monitor import Monitor\n",
        "from stable_baselines3.common.results_plotter import load_results, ts2xy"
      ],
      "outputs": [],
      "metadata": {
        "colab": {
          "base_uri": "https://localhost:8080/"
        },
        "id": "OcO5A67_1CAy",
        "outputId": "dac58606-20a6-4563-e5b1-f59b3fff6204"
      }
    },
    {
      "cell_type": "markdown",
      "source": [
        "# Taxi Environment"
      ],
      "metadata": {}
    },
    {
      "cell_type": "code",
      "execution_count": 2,
      "source": [
        "name = \"Taxi-v3\"\n",
        "env = gym.make(name)\n",
        "spec = gym.spec(name)\n",
        "\n",
        "print(f\"Action Space: {env.action_space}\")\n",
        "print(f\"Observation Space: {env.observation_space}\")\n",
        "print(f\"Max Episode Steps: {spec.max_episode_steps}\")\n",
        "print(f\"Nondeterministic: {spec.nondeterministic}\")\n",
        "print(f\"Reward Range: {env.reward_range}\")\n",
        "print(f\"Reward Threshold: {spec.reward_threshold}\")"
      ],
      "outputs": [
        {
          "output_type": "stream",
          "name": "stdout",
          "text": [
            "Action Space: Discrete(6)\n",
            "Observation Space: Discrete(500)\n",
            "Max Episode Steps: 200\n",
            "Nondeterministic: False\n",
            "Reward Range: (-inf, inf)\n",
            "Reward Threshold: 8\n"
          ]
        }
      ],
      "metadata": {}
    },
    {
      "cell_type": "markdown",
      "source": [
        "# Helper Functions"
      ],
      "metadata": {}
    },
    {
      "cell_type": "code",
      "execution_count": 3,
      "source": [
        "def evaluate_taxi(model, num_episodes=20):\n",
        "    \"\"\"\n",
        "    Evaluate a RL agent\n",
        "    :param model: the RL Agent\n",
        "    :param num_episodes: number of episodes to evaluate it\n",
        "    :return: Mean reward for the last num_episodes\n",
        "    \"\"\"\n",
        "    all_episode_rewards = np.zeros((num_episodes))\n",
        "    env = gym.make(name)\n",
        "    env.seed(42)\n",
        "    \n",
        "    for i in range(num_episodes):\n",
        "        episode_rewards = []\n",
        "        frames = [] # for animation\n",
        "        done = False\n",
        "        obs = env.reset()\n",
        "        while not done:\n",
        "            action = model.predict(obs)\n",
        "            # here, action, rewards and dones are arrays\n",
        "            # because we are using vectorized env\n",
        "            obs, reward, done, info = env.step(action)\n",
        "            episode_rewards.append(reward)\n",
        "\n",
        "            # Put each rendered frame into dict for animation\n",
        "            frames.append({\n",
        "                'frame': env.render(mode='ansi'),\n",
        "                'state': obs,\n",
        "                'action': action,\n",
        "                'reward': reward\n",
        "                }\n",
        "            )\n",
        "        all_episode_rewards[i] = sum(episode_rewards)\n",
        "    \n",
        "    env.close()\n",
        "\n",
        "    mean_episode_reward = np.mean(all_episode_rewards)\n",
        "    print(\"Mean reward:\", mean_episode_reward, \"Num episodes:\", num_episodes)\n",
        "\n",
        "    return mean_episode_reward, frames"
      ],
      "outputs": [],
      "metadata": {
        "id": "9DDeYeYUG1oc"
      }
    },
    {
      "cell_type": "code",
      "execution_count": 4,
      "source": [
        "from IPython.display import clear_output\n",
        "from time import sleep\n",
        "\n",
        "def print_frames(frames):\n",
        "    for i, frame in enumerate(frames):\n",
        "        clear_output(wait=True)\n",
        "        print(frame['frame'])\n",
        "        print(f\"Timestep: {i + 1}\")\n",
        "        print(f\"State: {frame['state']}\")\n",
        "        print(f\"Action: {frame['action']}\")\n",
        "        print(f\"Reward: {frame['reward']}\")\n",
        "        sleep(.1)"
      ],
      "outputs": [],
      "metadata": {
        "id": "jrZsreC2GTtg"
      }
    },
    {
      "cell_type": "markdown",
      "source": [
        "# Q-Learning"
      ],
      "metadata": {}
    },
    {
      "cell_type": "code",
      "execution_count": 5,
      "source": [
        "class QLearningDiscrete:\n",
        "    def __init__(self, env, max_frames=99, gamma=0.618, epsilon=1.0):\n",
        "        \"\"\"\n",
        "        :param env: OpenAI RL environment to solve\n",
        "        :param max_frames: Max number of iteration in a single gameplay\n",
        "        :param gamma: Decay factor\n",
        "        :param epsilon: Exploration term\n",
        "        \"\"\"\n",
        "        self.env = env\n",
        "        self.action_size = self.env.action_space.n\n",
        "        self.state_size = self.env.observation_space.n\n",
        "        self.Q = np.random.random((self.state_size, self.env.action_space.n))\n",
        "        self.max_frames = max_frames\n",
        "        self.gamma = gamma\n",
        "        self.epsilon = epsilon\n",
        "\n",
        "\n",
        "    def _bellman_equation(self, state, action, reward, next_state):\n",
        "        \"\"\"\n",
        "        Update the Q-Learning table with discounted reward\n",
        "        :param state: Current state of the environment.\n",
        "        :param action: Action to be taken by the agent.\n",
        "        :param reward: Reward perceived by the agent.\n",
        "        :param next_state: Current state of the environment.\n",
        "        \"\"\"\n",
        "        self.Q[state, action] = self.Q[state, action] + self.gamma * (reward + np.max(self.Q[next_state, ]) - self.Q[state, action])\n",
        "\n",
        "    def _epsilon_decay(self, total_time):\n",
        "        \"\"\"\n",
        "        Decay the exploration factor in training.\n",
        "        :param total_time: max number of steps to play\n",
        "        :return: new exploration factor\n",
        "        \"\"\"\n",
        "        exploration_steps = total_time / 2\n",
        "        epsilon_decay = (1 - 0.1) / exploration_steps\n",
        "        return max(self.epsilon - epsilon_decay, 0.1)\n",
        "    \n",
        "    def predict(self, obs, training=True):\n",
        "        \"\"\"\n",
        "        Q-Learning table lookup for decision making.\n",
        "        :param obs: Current observation of the agent\n",
        "        :param training: Boolean for if the agent is training\n",
        "        :return: Action the agent will make.\n",
        "        \"\"\"\n",
        "        if np.random.uniform(0, 1) < self.epsilon:\n",
        "            # Select a random action at random occurrences\n",
        "            return self.env.action_space.sample()\n",
        "        # Select optimal action\n",
        "        return np.argmax(self.Q[obs, :])\n",
        "\n",
        "    def learn(self, total_timesteps):\n",
        "        \"\"\"\n",
        "        Q-Learning updating through game-playing\n",
        "        :param total_timesteps: Max number of steps to play\n",
        "        \"\"\"\n",
        "        timesteps = 0\n",
        "        for episode in range(total_timesteps):\n",
        "            # Reset variables for new game\n",
        "            state = self.env.reset()\n",
        "            # frame, cum_reward = 0, 0\n",
        "            frame = 0\n",
        "            done = False\n",
        "            \n",
        "            # Repeat until game-over or when too many frames have passed\n",
        "            while not done and frame < self.max_frames:\n",
        "                # Predict new decision\n",
        "                action = self.predict(state)\n",
        "                # Simulate decision\n",
        "                next_state, reward, done, info = self.env.step(action)\n",
        "                # Update Q table\n",
        "                self._bellman_equation(state, action, reward, next_state)\n",
        "                # Track the run\n",
        "                state = next_state\n",
        "                frame += 1\n",
        "                # Decay exploration\n",
        "                self.epsilon = self._epsilon_decay(total_timesteps)\n",
        "            \n",
        "            timesteps += frame\n",
        "            if timesteps > total_timesteps:\n",
        "                return None"
      ],
      "outputs": [],
      "metadata": {
        "id": "Z6hNBtDD4pMg"
      }
    },
    {
      "cell_type": "markdown",
      "source": [
        "## Random Agent"
      ],
      "metadata": {}
    },
    {
      "cell_type": "code",
      "execution_count": 6,
      "source": [
        "# Create log dir\n",
        "log_dir = f\"logs/{name}/\"\n",
        "os.makedirs(log_dir, exist_ok=True)\n",
        "\n",
        "# Create and wrap the environment\n",
        "env = gym.make(name)\n",
        "# Logs will be saved in log_dir/\n",
        "env = Monitor(env, log_dir)\n",
        "env.seed(42)"
      ],
      "outputs": [],
      "metadata": {
        "id": "Ydzyb4St3bui"
      }
    },
    {
      "cell_type": "code",
      "execution_count": 7,
      "source": [
        "model = QLearningDiscrete(env)\n",
        "\n",
        "frames = evaluate_taxi(model)"
      ],
      "outputs": [
        {
          "output_type": "stream",
          "name": "stdout",
          "text": [
            "Mean reward: -716.2 Num episodes: 20\n"
          ]
        }
      ],
      "metadata": {
        "colab": {
          "base_uri": "https://localhost:8080/"
        },
        "id": "5u5gXqst2ocF",
        "outputId": "71cd5dc2-7945-4ec1-9405-35743b08d5e3"
      }
    },
    {
      "cell_type": "code",
      "execution_count": 8,
      "source": [
        "print_frames(frames[1])"
      ],
      "outputs": [
        {
          "output_type": "stream",
          "name": "stdout",
          "text": [
            "+---------+\n",
            "|\u001b[35m\u001b[42mR\u001b[0m\u001b[0m: | : :G|\n",
            "| : | : : |\n",
            "| : : : : |\n",
            "| | : | : |\n",
            "|Y| : |B: |\n",
            "+---------+\n",
            "  (West)\n",
            "\n",
            "Timestep: 200\n",
            "State: 16\n",
            "Action: 3\n",
            "Reward: -1\n"
          ]
        }
      ],
      "metadata": {
        "colab": {
          "base_uri": "https://localhost:8080/"
        },
        "id": "mPzU8Wk3NmlC",
        "outputId": "19e1297d-14dd-4b51-cf36-7f9bd7798d10"
      }
    },
    {
      "cell_type": "markdown",
      "source": [
        "## Agent Training"
      ],
      "metadata": {}
    },
    {
      "cell_type": "code",
      "execution_count": 9,
      "source": [
        "total_steps = 4e4\n",
        "model.learn(total_timesteps=int(total_steps))"
      ],
      "outputs": [],
      "metadata": {
        "id": "2FokfchZ3ml8"
      }
    },
    {
      "cell_type": "markdown",
      "source": [
        "## Evaluation"
      ],
      "metadata": {}
    },
    {
      "cell_type": "code",
      "execution_count": 10,
      "source": [
        "from stable_baselines3.common import results_plotter\n",
        "\n",
        "# Helper from the library\n",
        "results_plotter.plot_results([log_dir], total_steps, results_plotter.X_TIMESTEPS, \"Q-Learning Taxi\")"
      ],
      "outputs": [
        {
          "output_type": "display_data",
          "data": {
            "text/plain": [
              "<Figure size 576x144 with 1 Axes>"
            ],
            "image/png": "[encoded data removed]"
          },
          "metadata": {
            "needs_background": "light"
          }
        }
      ],
      "metadata": {
        "id": "6QnoQwZ35tQR",
        "colab": {
          "base_uri": "https://localhost:8080/",
          "height": 153
        },
        "outputId": "b9d5e785-10bf-44a9-ae7c-40cfe9e3009b"
      }
    },
    {
      "cell_type": "code",
      "execution_count": 11,
      "source": [
        "def moving_average(values, window):\n",
        "    \"\"\"\n",
        "    Smooth values by doing a moving average\n",
        "    :param values: (numpy array)\n",
        "    :param window: (int)\n",
        "    :return: (numpy array)\n",
        "    \"\"\"\n",
        "    weights = np.repeat(1.0, window) / window\n",
        "    return np.convolve(values, weights, 'valid')\n",
        "\n",
        "\n",
        "def plot_results(log_folder):\n",
        "    \"\"\"\n",
        "    plot the results\n",
        "\n",
        "    :param log_folder: (str) the save location of the results to plot\n",
        "    :param title: (str) the title of the task to plot\n",
        "    \"\"\"\n",
        "    x, y1 = ts2xy(load_results(log_folder), 'timesteps')\n",
        "    y1 = moving_average(y1, window=50)\n",
        "    # Truncate x\n",
        "    x = x[len(x) - len(y1):]\n",
        "\n",
        "    # Exploration epsilon values\n",
        "    exploration_steps = total_steps / 2\n",
        "    epsilon_decay = (1 - 0.1) / exploration_steps\n",
        "    y2 = np.array([max(1 - epsilon_decay * time, 0.1) for time in range(int(total_steps))])[x[x < total_steps]]\n",
        "    \n",
        "    fig, ax1 = plt.subplots()\n",
        "\n",
        "    ax2 = ax1.twinx()\n",
        "    ax1.plot(x, y1, 'b-')\n",
        "    ax2.plot(x[x < total_steps], y2, 'g-')\n",
        "\n",
        "    ax1.set_xlabel('Number of Timesteps')\n",
        "    ax1.set_ylabel('Rewards', color='b')\n",
        "    ax2.set_ylabel('Epsilon', color='g')\n",
        "\n",
        "    plt.show()\n",
        "\n",
        "plot_results(log_dir)"
      ],
      "outputs": [
        {
          "output_type": "display_data",
          "data": {
            "text/plain": [
              "<Figure size 432x288 with 2 Axes>"
            ],
            "image/png": "[encoded data removed]"
          },
          "metadata": {
            "needs_background": "light"
          }
        }
      ],
      "metadata": {
        "id": "JJTM_lED5ykY",
        "colab": {
          "base_uri": "https://localhost:8080/",
          "height": 295
        },
        "outputId": "809a0052-44b0-48ff-e542-1709aca31b62"
      }
    },
    {
      "cell_type": "code",
      "execution_count": 13,
      "source": [
        "frames = evaluate_taxi(model)"
      ],
      "outputs": [
        {
          "output_type": "stream",
          "name": "stdout",
          "text": [
            "Mean reward: 2.0 Num episodes: 20\n"
          ]
        }
      ],
      "metadata": {
        "id": "pquWctQtA1pU",
        "colab": {
          "base_uri": "https://localhost:8080/"
        },
        "outputId": "da9c564d-47cf-4fc3-e8d2-55b86bf8a023"
      }
    },
    {
      "cell_type": "code",
      "execution_count": 14,
      "source": [
        "print_frames(frames[1])"
      ],
      "outputs": [
        {
          "output_type": "stream",
          "name": "stdout",
          "text": [
            "+---------+\n",
            "|R: | : :\u001b[35m\u001b[34;1m\u001b[43mG\u001b[0m\u001b[0m\u001b[0m|\n",
            "| : | : : |\n",
            "| : : : : |\n",
            "| | : | : |\n",
            "|Y| : |B: |\n",
            "+---------+\n",
            "  (Dropoff)\n",
            "\n",
            "Timestep: 13\n",
            "State: 85\n",
            "Action: 5\n",
            "Reward: 20\n"
          ]
        }
      ],
      "metadata": {
        "id": "pRXs4hzQD9wl",
        "colab": {
          "base_uri": "https://localhost:8080/"
        },
        "outputId": "1760a2b9-20be-4db6-e96e-cafbd48cadd8"
      }
    }
  ]
}
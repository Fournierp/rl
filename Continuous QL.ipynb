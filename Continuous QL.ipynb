{
  "nbformat": 4,
  "nbformat_minor": 2,
  "metadata": {
    "colab": {
      "name": "Continuous QL.ipynb",
      "provenance": [],
      "collapsed_sections": []
    },
    "kernelspec": {
      "name": "python3",
      "display_name": "Python 3"
    }
  },
  "cells": [
    {
      "cell_type": "code",
      "execution_count": 1,
      "source": [
        "import gym\n",
        "import numpy as np\n",
        "import math\n",
        "\n",
        "import os\n",
        "\n",
        "import matplotlib.pyplot as plt\n",
        "\n",
        "from stable_baselines3.common.monitor import Monitor\n",
        "from stable_baselines3.common.results_plotter import load_results, ts2xy"
      ],
      "outputs": [],
      "metadata": {
        "id": "b5G5rSEB8m9T",
        "colab": {
          "base_uri": "https://localhost:8080/"
        },
        "outputId": "c1e3a750-b56d-47f5-f29b-60f5249940e5"
      }
    },
    {
      "cell_type": "markdown",
      "source": [
        "# CartPole Environment"
      ],
      "metadata": {}
    },
    {
      "cell_type": "code",
      "execution_count": 2,
      "source": [
        "name = \"CartPole-v0\"\n",
        "env = gym.make(name)\n",
        "spec = gym.spec(name)\n",
        "\n",
        "print(f\"Action Space: {env.action_space}\")\n",
        "print(f\"Observation Space: {env.observation_space}\")\n",
        "print(f\"Max Episode Steps: {spec.max_episode_steps}\")\n",
        "print(f\"Nondeterministic: {spec.nondeterministic}\")\n",
        "print(f\"Reward Range: {env.reward_range}\")\n",
        "print(f\"Reward Threshold: {spec.reward_threshold}\")"
      ],
      "outputs": [
        {
          "output_type": "stream",
          "name": "stdout",
          "text": [
            "Action Space: Discrete(2)\n",
            "Observation Space: Box(4,)\n",
            "Max Episode Steps: 200\n",
            "Nondeterministic: False\n",
            "Reward Range: (-inf, inf)\n",
            "Reward Threshold: 195.0\n"
          ]
        },
        {
          "output_type": "stream",
          "name": "stderr",
          "text": [
            "/home/pf/.local/lib/python3.8/site-packages/gym/logger.py:30: UserWarning: \u001b[33mWARN: Box bound precision lowered by casting to float32\u001b[0m\n",
            "  warnings.warn(colorize('%s: %s'%('WARN', msg % args), 'yellow'))\n"
          ]
        }
      ],
      "metadata": {}
    },
    {
      "cell_type": "markdown",
      "source": [
        "# Helper Functions"
      ],
      "metadata": {}
    },
    {
      "cell_type": "code",
      "execution_count": 3,
      "source": [
        "def evaluate(model, num_episodes=20):\n",
        "    \"\"\"\n",
        "    Evaluate a RL agent\n",
        "    :param model: the RL Agent\n",
        "    :param num_episodes: number of episodes to evaluate it\n",
        "    :return: Mean reward for the last num_episodes\n",
        "    \"\"\"\n",
        "    all_episode_rewards = np.zeros((num_episodes))\n",
        "    env = gym.make(name)\n",
        "    env.seed(42)\n",
        "\n",
        "    for i in range(num_episodes):\n",
        "        episode_rewards = []\n",
        "        done = False\n",
        "        obs = env.reset()\n",
        "        while not done:\n",
        "            action, _ = model.predict(obs)\n",
        "            # here, action, rewards and dones are arrays\n",
        "            # because we are using vectorized env\n",
        "            obs, reward, done, info = env.step(action)\n",
        "            episode_rewards.append(reward)\n",
        "\n",
        "        all_episode_rewards[i] = sum(episode_rewards)\n",
        "    \n",
        "    env.close()\n",
        "\n",
        "    mean_episode_reward = np.mean(all_episode_rewards)\n",
        "    print(\"Mean reward:\", mean_episode_reward, \"Num episodes:\", num_episodes)\n",
        "\n",
        "    return mean_episode_reward"
      ],
      "outputs": [],
      "metadata": {}
    },
    {
      "cell_type": "markdown",
      "source": [
        "# Q-Learning"
      ],
      "metadata": {}
    },
    {
      "cell_type": "code",
      "execution_count": 4,
      "source": [
        "class QLearningContinuous :\n",
        "    def __init__(self, env, gamma=0.7,\n",
        "                 epsilon=1.0, buckets=(1, 1, 6, 12,)):\n",
        "        \"\"\"\n",
        "        :param env: OpenAI RL environment to solve\n",
        "        :param gamma: Decay factor\n",
        "        :param epsilon: Exploration term\n",
        "        :param buckets: DImension of the discretinsed observation\n",
        "        \"\"\"\n",
        "        self.env = env\n",
        "        self.gamma = gamma\n",
        "        self.epsilon = epsilon\n",
        "        self.buckets = buckets\n",
        "        self.Q = np.zeros(buckets + (self.env.action_space.n,))\n",
        "        np.random.seed(0)\n",
        "\n",
        "    def _continuous_to_discrete(self, obs):\n",
        "        \"\"\"\n",
        "        Convert the continuous state into a discrete array.\n",
        "        :param obs: Environment state\n",
        "        \"\"\"\n",
        "        # https://gist.github.com/n1try/af0b8476ae4106ec098fea1dfe57f578\n",
        "        upper_bounds = [self.env.observation_space.high[0], 0.5, self.env.observation_space.high[2], math.radians(50)]\n",
        "        lower_bounds = [self.env.observation_space.low[0], -0.5, self.env.observation_space.low[2], -math.radians(50)]\n",
        "        ratios = [(obs[i] + abs(lower_bounds[i])) / (upper_bounds[i] - lower_bounds[i]) for i in range(len(obs))]\n",
        "        new_obs = [int(round((self.buckets[i] - 1) * ratios[i])) for i in range(len(obs))]\n",
        "        new_obs = [min(self.buckets[i] - 1, max(0, new_obs[i])) for i in range(len(obs))]\n",
        "        return tuple(new_obs)\n",
        "\n",
        "    def _bellman_equation(self, state, action, reward, next_state):\n",
        "        \"\"\"\n",
        "        Update the Q-Learning table with discounted reward\n",
        "        :param state: Current state of the environment.\n",
        "        :param action: Action to be taken by the agent.\n",
        "        :param reward: Reward perceived by the agent.\n",
        "        :param next_state: Current state of the environment.\n",
        "        \"\"\"\n",
        "        state = self._continuous_to_discrete(state)\n",
        "        next_state = self._continuous_to_discrete(next_state)\n",
        "        self.Q[state][action] = self.Q[state][action] + self.gamma * (reward + np.max(self.Q[next_state]) - self.Q[state][action])\n",
        "\n",
        "    def _epsilon_decay(self, total_time):\n",
        "        \"\"\"\n",
        "        Decay the exploration factor in training.\n",
        "        :param total_time: max number of steps to play\n",
        "        :return: new exploration factor\n",
        "        \"\"\"\n",
        "        exploration_steps = total_time / 2\n",
        "        epsilon_decay = (1 - 0.1) / exploration_steps\n",
        "        return max(self.epsilon - epsilon_decay, 0.1)\n",
        "\n",
        "\n",
        "    def predict(self, obs):\n",
        "        \"\"\"\n",
        "        Q-Learning table lookup for decision making.\n",
        "        :param obs: Current observation of the agent\n",
        "        :return: Action the agent will make.\n",
        "        \"\"\"\n",
        "        if np.random.uniform(0, 1) < self.epsilon:\n",
        "            # Select a random action at random occurrences\n",
        "            return self.env.action_space.sample(), {}\n",
        "        # Select optimal action\n",
        "        obs = self._continuous_to_discrete(obs)\n",
        "        return np.argmax(self.Q[obs]), {}\n",
        "\n",
        "    def learn(self, total_timesteps, verbose=1):\n",
        "        \"\"\" \n",
        "        Q-Learning updating through game-playing\n",
        "        :param total_timesteps: Max number of steps to play\n",
        "        \"\"\"\n",
        "        rewards = []\n",
        "        timesteps = 0\n",
        "\n",
        "        for episode in range(total_timesteps):\n",
        "            # Reset variables for new game\n",
        "            state = self.env.reset()\n",
        "            done = False\n",
        "            cum_reward = 0\n",
        "\n",
        "            # Repeat until game-over\n",
        "            while not done and cum_reward <= 200:\n",
        "                # Predict new decision\n",
        "                action, _ = self.predict(state)\n",
        "                # Simulate decision\n",
        "                next_state, reward, done, info = self.env.step(action)\n",
        "                # Update Q table\n",
        "                self._bellman_equation(state, action, reward, next_state)\n",
        "                # Track the run\n",
        "                state = next_state\n",
        "                cum_reward += 1\n",
        "                timesteps += 1 \n",
        "                # Decay exploration\n",
        "                self.epsilon = self._epsilon_decay(total_timesteps)\n",
        "                # self.epsilon = self._epsilon_decay(timesteps, total_timesteps)\n",
        "\n",
        "            rewards.append(cum_reward)\n",
        "\n",
        "            if cum_reward > 195 and verbose:\n",
        "                print('Solved at episode {} - after {} frames.'.format(episode, timesteps))\n",
        "\n",
        "            if not episode % 100 and verbose:\n",
        "                print('Episode {} - Mean survival time was {} frames.'.format(episode, np.mean(rewards)))\n",
        "                rewards = []\n",
        "\n",
        "            if timesteps > total_timesteps:\n",
        "                return None"
      ],
      "outputs": [],
      "metadata": {
        "id": "BElK_0g18sIl"
      }
    },
    {
      "cell_type": "markdown",
      "source": [
        "## Random Agent"
      ],
      "metadata": {}
    },
    {
      "cell_type": "code",
      "execution_count": 5,
      "source": [
        "env = gym.make(name)\n",
        "env.seed(42)\n",
        "\n",
        "model = QLearningContinuous(env)\n",
        "\n",
        "_ = evaluate(model)"
      ],
      "outputs": [
        {
          "output_type": "stream",
          "name": "stdout",
          "text": [
            "Mean reward: 24.0 Num episodes: 20\n"
          ]
        }
      ],
      "metadata": {}
    },
    {
      "cell_type": "markdown",
      "source": [
        "## Agent Training"
      ],
      "metadata": {}
    },
    {
      "cell_type": "code",
      "execution_count": 7,
      "source": [
        "# Create log dir\n",
        "log_dir = f\"logs/{name}/\"\n",
        "os.makedirs(log_dir, exist_ok=True)\n",
        "\n",
        "# Create and wrap the environment\n",
        "env = gym.make(name)\n",
        "\n",
        "# Logs will be saved in log_dir/monitor.csv\n",
        "env = Monitor(env, log_dir)\n",
        "env.seed(42)\n",
        "\n",
        "model = QLearningContinuous(env)"
      ],
      "outputs": [
        {
          "output_type": "stream",
          "name": "stderr",
          "text": [
            "/home/pf/.local/lib/python3.8/site-packages/gym/logger.py:30: UserWarning: \u001b[33mWARN: Box bound precision lowered by casting to float32\u001b[0m\n",
            "  warnings.warn(colorize('%s: %s'%('WARN', msg % args), 'yellow'))\n"
          ]
        }
      ],
      "metadata": {
        "id": "kHQjjyfL9T-q"
      }
    },
    {
      "cell_type": "code",
      "execution_count": 8,
      "source": [
        "total_steps = 2e5\n",
        "model.learn(total_timesteps=int(total_steps), verbose=0)"
      ],
      "outputs": [],
      "metadata": {
        "id": "JAcNH9kx9jyI"
      }
    },
    {
      "cell_type": "markdown",
      "source": [
        "## Evaluation"
      ],
      "metadata": {}
    },
    {
      "cell_type": "code",
      "execution_count": 9,
      "source": [
        "from stable_baselines3.common import results_plotter\n",
        "\n",
        "# Helper from the library\n",
        "results_plotter.plot_results([log_dir], 2*total_steps, results_plotter.X_TIMESTEPS, \"Q-Learning Cartpole\")"
      ],
      "outputs": [
        {
          "output_type": "display_data",
          "data": {
            "text/plain": [
              "<Figure size 576x144 with 1 Axes>"
            ],
            "image/png": "[encoded data removed]"
          },
          "metadata": {
            "needs_background": "light"
          }
        }
      ],
      "metadata": {
        "colab": {
          "base_uri": "https://localhost:8080/",
          "height": 153
        },
        "id": "265FAeRR_XCB",
        "outputId": "74a70f18-f5f7-41ae-9089-63bb9d128c7a"
      }
    },
    {
      "cell_type": "code",
      "execution_count": 10,
      "source": [
        "def moving_average(values, window):\n",
        "    \"\"\"\n",
        "    Smooth values by doing a moving average\n",
        "    :param values: (numpy array)\n",
        "    :param window: (int)\n",
        "    :return: (numpy array)\n",
        "    \"\"\"\n",
        "    weights = np.repeat(1.0, window) / window\n",
        "    return np.convolve(values, weights, 'valid')\n",
        "\n",
        "\n",
        "def plot_results(log_folder):\n",
        "    \"\"\"\n",
        "    plot the results\n",
        "\n",
        "    :param log_folder: (str) the save location of the results to plot\n",
        "    :param title: (str) the title of the task to plot\n",
        "    \"\"\"\n",
        "    x, y1 = ts2xy(load_results(log_folder), 'timesteps')\n",
        "    y1 = moving_average(y1, window=50)\n",
        "    # Truncate x\n",
        "    x = x[len(x) - len(y1):]\n",
        "\n",
        "    # Exploration epsilon values\n",
        "    exploration_steps = total_steps / 2\n",
        "    epsilon_decay = (1 - 0.1) / exploration_steps\n",
        "    y2 = np.array([max(1 - epsilon_decay * time, 0.1) for time in range(int(total_steps))])[x[x < total_steps]]\n",
        "    \n",
        "    fig, ax1 = plt.subplots()\n",
        "\n",
        "    ax2 = ax1.twinx()\n",
        "    ax1.plot(x, y1, 'b-')\n",
        "    ax2.plot(x[x < total_steps], y2, 'g-')\n",
        "\n",
        "    ax1.set_xlabel('Number of Timesteps')\n",
        "    ax1.set_ylabel('Rewards', color='b')\n",
        "    ax2.set_ylabel('Epsilon', color='g')\n",
        "\n",
        "    plt.show()\n",
        "\n",
        "plot_results(log_dir)"
      ],
      "outputs": [
        {
          "output_type": "display_data",
          "data": {
            "text/plain": [
              "<Figure size 432x288 with 2 Axes>"
            ],
            "image/png": "[encoded data removed]"
          },
          "metadata": {
            "needs_background": "light"
          }
        }
      ],
      "metadata": {
        "colab": {
          "base_uri": "https://localhost:8080/",
          "height": 295
        },
        "id": "BGXBVrjG_hoX",
        "outputId": "00d43741-728d-44d2-a640-533633c1704f"
      }
    },
    {
      "cell_type": "code",
      "execution_count": 11,
      "source": [
        "_ = evaluate(model)"
      ],
      "outputs": [
        {
          "output_type": "stream",
          "name": "stdout",
          "text": [
            "Mean reward: 100.3 Num episodes: 20\n"
          ]
        },
        {
          "output_type": "stream",
          "name": "stderr",
          "text": [
            "/home/pf/.local/lib/python3.8/site-packages/gym/logger.py:30: UserWarning: \u001b[33mWARN: Box bound precision lowered by casting to float32\u001b[0m\n",
            "  warnings.warn(colorize('%s: %s'%('WARN', msg % args), 'yellow'))\n"
          ]
        }
      ],
      "metadata": {}
    },
    {
      "cell_type": "code",
      "execution_count": 12,
      "source": [
        "from stable_baselines3.common.vec_env import VecVideoRecorder, DummyVecEnv\n",
        "\n",
        "video_folder = log_dir + 'video'\n",
        "video_length = 100\n",
        "\n",
        "env = DummyVecEnv([lambda: gym.make(name)])\n",
        "\n",
        "obs = env.reset()\n",
        "\n",
        "# Record the video starting at the first step\n",
        "env = VecVideoRecorder(env, video_folder,\n",
        "                       record_video_trigger=lambda x: x == 0,\n",
        "                       video_length=video_length,\n",
        "                       name_prefix=\"QL-{}\".format(name))\n",
        "\n",
        "obs = env.reset()\n",
        "for _ in range(video_length + 1):\n",
        "    action, _ = model.predict(obs[0]) # Get the observation in the Vectorized environments\n",
        "    obs, _, done, _ = env.step([action])\n",
        "    if done:\n",
        "        break\n",
        "    \n",
        "# Save the video\n",
        "env.close()"
      ],
      "outputs": [
        {
          "output_type": "stream",
          "name": "stdout",
          "text": [
            "Saving video to /home/pf/Documents/rl/logs/CartPole-v0/video/QL-CartPole-v0-step-0-to-step-100.mp4\n"
          ]
        }
      ],
      "metadata": {
        "id": "Qmw_1WGUFbCU"
      }
    },
    {
      "cell_type": "code",
      "execution_count": 13,
      "source": [
        "from IPython.display import Video\n",
        "\n",
        "Video(video_folder + f\"/QL-{name}-step-0-to-step-100.mp4\")"
      ],
      "outputs": [
        {
          "output_type": "execute_result",
          "data": {
            "text/plain": [
              "<IPython.core.display.Video object>"
            ],
            "text/html": [
              "<video src=\"logs/CartPole-v0/video/QL-CartPole-v0-step-0-to-step-100.mp4\" controls  >\n",
              "      Your browser does not support the <code>video</code> element.\n",
              "    </video>"
            ]
          },
          "metadata": {},
          "execution_count": 13
        }
      ],
      "metadata": {}
    },
    {
      "cell_type": "code",
      "execution_count": null,
      "source": [],
      "outputs": [],
      "metadata": {}
    }
  ]
}